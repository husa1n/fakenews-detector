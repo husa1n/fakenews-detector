{
 "cells": [
  {
   "cell_type": "code",
   "execution_count": 14,
   "id": "ef2a15e5",
   "metadata": {},
   "outputs": [],
   "source": [
    "import pandas as pd\n",
    "from sklearn.model_selection import train_test_split\n",
    "from sklearn.feature_extraction.text import TfidfVectorizer\n",
    "from sklearn.linear_model import LogisticRegression\n",
    "from sklearn.pipeline import Pipeline\n",
    "import joblib\n",
    "import re\n",
    "from sklearn.ensemble import RandomForestClassifier\n",
    "from sklearn.metrics import classification_report\n",
    "import string"
   ]
  },
  {
   "cell_type": "code",
   "execution_count": 2,
   "id": "a8902fdb",
   "metadata": {},
   "outputs": [],
   "source": [
    "True_df = pd.read_csv(r\"C:\\Users\\shabb\\Desktop\\Fake_News_detector\\data\\True.csv\")\n",
    "Fake_df = pd.read_csv(r\"C:\\Users\\shabb\\Desktop\\Fake_News_detector\\data\\Fake.csv\")"
   ]
  },
  {
   "cell_type": "code",
   "execution_count": 3,
   "id": "f180de9a",
   "metadata": {},
   "outputs": [
    {
     "data": {
      "text/html": [
       "<div>\n",
       "<style scoped>\n",
       "    .dataframe tbody tr th:only-of-type {\n",
       "        vertical-align: middle;\n",
       "    }\n",
       "\n",
       "    .dataframe tbody tr th {\n",
       "        vertical-align: top;\n",
       "    }\n",
       "\n",
       "    .dataframe thead th {\n",
       "        text-align: right;\n",
       "    }\n",
       "</style>\n",
       "<table border=\"1\" class=\"dataframe\">\n",
       "  <thead>\n",
       "    <tr style=\"text-align: right;\">\n",
       "      <th></th>\n",
       "      <th>title</th>\n",
       "      <th>text</th>\n",
       "      <th>subject</th>\n",
       "      <th>date</th>\n",
       "    </tr>\n",
       "  </thead>\n",
       "  <tbody>\n",
       "    <tr>\n",
       "      <th>0</th>\n",
       "      <td>As U.S. budget fight looms, Republicans flip t...</td>\n",
       "      <td>WASHINGTON (Reuters) - The head of a conservat...</td>\n",
       "      <td>politicsNews</td>\n",
       "      <td>December 31, 2017</td>\n",
       "    </tr>\n",
       "    <tr>\n",
       "      <th>1</th>\n",
       "      <td>U.S. military to accept transgender recruits o...</td>\n",
       "      <td>WASHINGTON (Reuters) - Transgender people will...</td>\n",
       "      <td>politicsNews</td>\n",
       "      <td>December 29, 2017</td>\n",
       "    </tr>\n",
       "    <tr>\n",
       "      <th>2</th>\n",
       "      <td>Senior U.S. Republican senator: 'Let Mr. Muell...</td>\n",
       "      <td>WASHINGTON (Reuters) - The special counsel inv...</td>\n",
       "      <td>politicsNews</td>\n",
       "      <td>December 31, 2017</td>\n",
       "    </tr>\n",
       "    <tr>\n",
       "      <th>3</th>\n",
       "      <td>FBI Russia probe helped by Australian diplomat...</td>\n",
       "      <td>WASHINGTON (Reuters) - Trump campaign adviser ...</td>\n",
       "      <td>politicsNews</td>\n",
       "      <td>December 30, 2017</td>\n",
       "    </tr>\n",
       "    <tr>\n",
       "      <th>4</th>\n",
       "      <td>Trump wants Postal Service to charge 'much mor...</td>\n",
       "      <td>SEATTLE/WASHINGTON (Reuters) - President Donal...</td>\n",
       "      <td>politicsNews</td>\n",
       "      <td>December 29, 2017</td>\n",
       "    </tr>\n",
       "  </tbody>\n",
       "</table>\n",
       "</div>"
      ],
      "text/plain": [
       "                                               title  \\\n",
       "0  As U.S. budget fight looms, Republicans flip t...   \n",
       "1  U.S. military to accept transgender recruits o...   \n",
       "2  Senior U.S. Republican senator: 'Let Mr. Muell...   \n",
       "3  FBI Russia probe helped by Australian diplomat...   \n",
       "4  Trump wants Postal Service to charge 'much mor...   \n",
       "\n",
       "                                                text       subject  \\\n",
       "0  WASHINGTON (Reuters) - The head of a conservat...  politicsNews   \n",
       "1  WASHINGTON (Reuters) - Transgender people will...  politicsNews   \n",
       "2  WASHINGTON (Reuters) - The special counsel inv...  politicsNews   \n",
       "3  WASHINGTON (Reuters) - Trump campaign adviser ...  politicsNews   \n",
       "4  SEATTLE/WASHINGTON (Reuters) - President Donal...  politicsNews   \n",
       "\n",
       "                 date  \n",
       "0  December 31, 2017   \n",
       "1  December 29, 2017   \n",
       "2  December 31, 2017   \n",
       "3  December 30, 2017   \n",
       "4  December 29, 2017   "
      ]
     },
     "execution_count": 3,
     "metadata": {},
     "output_type": "execute_result"
    }
   ],
   "source": [
    "True_df.head()"
   ]
  },
  {
   "cell_type": "code",
   "execution_count": 4,
   "id": "e4345a97",
   "metadata": {},
   "outputs": [
    {
     "data": {
      "text/html": [
       "<div>\n",
       "<style scoped>\n",
       "    .dataframe tbody tr th:only-of-type {\n",
       "        vertical-align: middle;\n",
       "    }\n",
       "\n",
       "    .dataframe tbody tr th {\n",
       "        vertical-align: top;\n",
       "    }\n",
       "\n",
       "    .dataframe thead th {\n",
       "        text-align: right;\n",
       "    }\n",
       "</style>\n",
       "<table border=\"1\" class=\"dataframe\">\n",
       "  <thead>\n",
       "    <tr style=\"text-align: right;\">\n",
       "      <th></th>\n",
       "      <th>title</th>\n",
       "      <th>text</th>\n",
       "      <th>subject</th>\n",
       "      <th>date</th>\n",
       "    </tr>\n",
       "  </thead>\n",
       "  <tbody>\n",
       "    <tr>\n",
       "      <th>0</th>\n",
       "      <td>Donald Trump Sends Out Embarrassing New Year’...</td>\n",
       "      <td>Donald Trump just couldn t wish all Americans ...</td>\n",
       "      <td>News</td>\n",
       "      <td>December 31, 2017</td>\n",
       "    </tr>\n",
       "    <tr>\n",
       "      <th>1</th>\n",
       "      <td>Drunk Bragging Trump Staffer Started Russian ...</td>\n",
       "      <td>House Intelligence Committee Chairman Devin Nu...</td>\n",
       "      <td>News</td>\n",
       "      <td>December 31, 2017</td>\n",
       "    </tr>\n",
       "    <tr>\n",
       "      <th>2</th>\n",
       "      <td>Sheriff David Clarke Becomes An Internet Joke...</td>\n",
       "      <td>On Friday, it was revealed that former Milwauk...</td>\n",
       "      <td>News</td>\n",
       "      <td>December 30, 2017</td>\n",
       "    </tr>\n",
       "    <tr>\n",
       "      <th>3</th>\n",
       "      <td>Trump Is So Obsessed He Even Has Obama’s Name...</td>\n",
       "      <td>On Christmas day, Donald Trump announced that ...</td>\n",
       "      <td>News</td>\n",
       "      <td>December 29, 2017</td>\n",
       "    </tr>\n",
       "    <tr>\n",
       "      <th>4</th>\n",
       "      <td>Pope Francis Just Called Out Donald Trump Dur...</td>\n",
       "      <td>Pope Francis used his annual Christmas Day mes...</td>\n",
       "      <td>News</td>\n",
       "      <td>December 25, 2017</td>\n",
       "    </tr>\n",
       "  </tbody>\n",
       "</table>\n",
       "</div>"
      ],
      "text/plain": [
       "                                               title  \\\n",
       "0   Donald Trump Sends Out Embarrassing New Year’...   \n",
       "1   Drunk Bragging Trump Staffer Started Russian ...   \n",
       "2   Sheriff David Clarke Becomes An Internet Joke...   \n",
       "3   Trump Is So Obsessed He Even Has Obama’s Name...   \n",
       "4   Pope Francis Just Called Out Donald Trump Dur...   \n",
       "\n",
       "                                                text subject  \\\n",
       "0  Donald Trump just couldn t wish all Americans ...    News   \n",
       "1  House Intelligence Committee Chairman Devin Nu...    News   \n",
       "2  On Friday, it was revealed that former Milwauk...    News   \n",
       "3  On Christmas day, Donald Trump announced that ...    News   \n",
       "4  Pope Francis used his annual Christmas Day mes...    News   \n",
       "\n",
       "                date  \n",
       "0  December 31, 2017  \n",
       "1  December 31, 2017  \n",
       "2  December 30, 2017  \n",
       "3  December 29, 2017  \n",
       "4  December 25, 2017  "
      ]
     },
     "execution_count": 4,
     "metadata": {},
     "output_type": "execute_result"
    }
   ],
   "source": [
    "Fake_df.head()"
   ]
  },
  {
   "cell_type": "code",
   "execution_count": 5,
   "id": "dfa9f4ae",
   "metadata": {},
   "outputs": [
    {
     "data": {
      "text/plain": [
       "title      0\n",
       "text       0\n",
       "subject    0\n",
       "date       0\n",
       "dtype: int64"
      ]
     },
     "execution_count": 5,
     "metadata": {},
     "output_type": "execute_result"
    }
   ],
   "source": [
    "True_df.isna().sum()"
   ]
  },
  {
   "cell_type": "code",
   "execution_count": 6,
   "id": "abbd1f78",
   "metadata": {},
   "outputs": [
    {
     "data": {
      "text/plain": [
       "title      0\n",
       "text       0\n",
       "subject    0\n",
       "date       0\n",
       "dtype: int64"
      ]
     },
     "execution_count": 6,
     "metadata": {},
     "output_type": "execute_result"
    }
   ],
   "source": [
    "Fake_df.isna().sum()"
   ]
  },
  {
   "cell_type": "code",
   "execution_count": 7,
   "id": "5f80d5e0",
   "metadata": {},
   "outputs": [],
   "source": [
    "True_df[\"Label\"] = 1\n",
    "Fake_df[\"Label\"]=0"
   ]
  },
  {
   "cell_type": "code",
   "execution_count": 8,
   "id": "dc411375",
   "metadata": {},
   "outputs": [
    {
     "data": {
      "text/html": [
       "<div>\n",
       "<style scoped>\n",
       "    .dataframe tbody tr th:only-of-type {\n",
       "        vertical-align: middle;\n",
       "    }\n",
       "\n",
       "    .dataframe tbody tr th {\n",
       "        vertical-align: top;\n",
       "    }\n",
       "\n",
       "    .dataframe thead th {\n",
       "        text-align: right;\n",
       "    }\n",
       "</style>\n",
       "<table border=\"1\" class=\"dataframe\">\n",
       "  <thead>\n",
       "    <tr style=\"text-align: right;\">\n",
       "      <th></th>\n",
       "      <th>title</th>\n",
       "      <th>text</th>\n",
       "      <th>subject</th>\n",
       "      <th>date</th>\n",
       "      <th>Label</th>\n",
       "    </tr>\n",
       "  </thead>\n",
       "  <tbody>\n",
       "    <tr>\n",
       "      <th>0</th>\n",
       "      <td>As U.S. budget fight looms, Republicans flip t...</td>\n",
       "      <td>WASHINGTON (Reuters) - The head of a conservat...</td>\n",
       "      <td>politicsNews</td>\n",
       "      <td>December 31, 2017</td>\n",
       "      <td>1</td>\n",
       "    </tr>\n",
       "    <tr>\n",
       "      <th>1</th>\n",
       "      <td>U.S. military to accept transgender recruits o...</td>\n",
       "      <td>WASHINGTON (Reuters) - Transgender people will...</td>\n",
       "      <td>politicsNews</td>\n",
       "      <td>December 29, 2017</td>\n",
       "      <td>1</td>\n",
       "    </tr>\n",
       "    <tr>\n",
       "      <th>2</th>\n",
       "      <td>Senior U.S. Republican senator: 'Let Mr. Muell...</td>\n",
       "      <td>WASHINGTON (Reuters) - The special counsel inv...</td>\n",
       "      <td>politicsNews</td>\n",
       "      <td>December 31, 2017</td>\n",
       "      <td>1</td>\n",
       "    </tr>\n",
       "    <tr>\n",
       "      <th>3</th>\n",
       "      <td>FBI Russia probe helped by Australian diplomat...</td>\n",
       "      <td>WASHINGTON (Reuters) - Trump campaign adviser ...</td>\n",
       "      <td>politicsNews</td>\n",
       "      <td>December 30, 2017</td>\n",
       "      <td>1</td>\n",
       "    </tr>\n",
       "    <tr>\n",
       "      <th>4</th>\n",
       "      <td>Trump wants Postal Service to charge 'much mor...</td>\n",
       "      <td>SEATTLE/WASHINGTON (Reuters) - President Donal...</td>\n",
       "      <td>politicsNews</td>\n",
       "      <td>December 29, 2017</td>\n",
       "      <td>1</td>\n",
       "    </tr>\n",
       "  </tbody>\n",
       "</table>\n",
       "</div>"
      ],
      "text/plain": [
       "                                               title  \\\n",
       "0  As U.S. budget fight looms, Republicans flip t...   \n",
       "1  U.S. military to accept transgender recruits o...   \n",
       "2  Senior U.S. Republican senator: 'Let Mr. Muell...   \n",
       "3  FBI Russia probe helped by Australian diplomat...   \n",
       "4  Trump wants Postal Service to charge 'much mor...   \n",
       "\n",
       "                                                text       subject  \\\n",
       "0  WASHINGTON (Reuters) - The head of a conservat...  politicsNews   \n",
       "1  WASHINGTON (Reuters) - Transgender people will...  politicsNews   \n",
       "2  WASHINGTON (Reuters) - The special counsel inv...  politicsNews   \n",
       "3  WASHINGTON (Reuters) - Trump campaign adviser ...  politicsNews   \n",
       "4  SEATTLE/WASHINGTON (Reuters) - President Donal...  politicsNews   \n",
       "\n",
       "                 date  Label  \n",
       "0  December 31, 2017       1  \n",
       "1  December 29, 2017       1  \n",
       "2  December 31, 2017       1  \n",
       "3  December 30, 2017       1  \n",
       "4  December 29, 2017       1  "
      ]
     },
     "execution_count": 8,
     "metadata": {},
     "output_type": "execute_result"
    }
   ],
   "source": [
    "True_df.head()"
   ]
  },
  {
   "cell_type": "code",
   "execution_count": 9,
   "id": "e0d8fc34",
   "metadata": {},
   "outputs": [
    {
     "data": {
      "text/html": [
       "<div>\n",
       "<style scoped>\n",
       "    .dataframe tbody tr th:only-of-type {\n",
       "        vertical-align: middle;\n",
       "    }\n",
       "\n",
       "    .dataframe tbody tr th {\n",
       "        vertical-align: top;\n",
       "    }\n",
       "\n",
       "    .dataframe thead th {\n",
       "        text-align: right;\n",
       "    }\n",
       "</style>\n",
       "<table border=\"1\" class=\"dataframe\">\n",
       "  <thead>\n",
       "    <tr style=\"text-align: right;\">\n",
       "      <th></th>\n",
       "      <th>title</th>\n",
       "      <th>text</th>\n",
       "      <th>subject</th>\n",
       "      <th>date</th>\n",
       "      <th>Label</th>\n",
       "    </tr>\n",
       "  </thead>\n",
       "  <tbody>\n",
       "    <tr>\n",
       "      <th>0</th>\n",
       "      <td>Donald Trump Sends Out Embarrassing New Year’...</td>\n",
       "      <td>Donald Trump just couldn t wish all Americans ...</td>\n",
       "      <td>News</td>\n",
       "      <td>December 31, 2017</td>\n",
       "      <td>0</td>\n",
       "    </tr>\n",
       "    <tr>\n",
       "      <th>1</th>\n",
       "      <td>Drunk Bragging Trump Staffer Started Russian ...</td>\n",
       "      <td>House Intelligence Committee Chairman Devin Nu...</td>\n",
       "      <td>News</td>\n",
       "      <td>December 31, 2017</td>\n",
       "      <td>0</td>\n",
       "    </tr>\n",
       "    <tr>\n",
       "      <th>2</th>\n",
       "      <td>Sheriff David Clarke Becomes An Internet Joke...</td>\n",
       "      <td>On Friday, it was revealed that former Milwauk...</td>\n",
       "      <td>News</td>\n",
       "      <td>December 30, 2017</td>\n",
       "      <td>0</td>\n",
       "    </tr>\n",
       "    <tr>\n",
       "      <th>3</th>\n",
       "      <td>Trump Is So Obsessed He Even Has Obama’s Name...</td>\n",
       "      <td>On Christmas day, Donald Trump announced that ...</td>\n",
       "      <td>News</td>\n",
       "      <td>December 29, 2017</td>\n",
       "      <td>0</td>\n",
       "    </tr>\n",
       "    <tr>\n",
       "      <th>4</th>\n",
       "      <td>Pope Francis Just Called Out Donald Trump Dur...</td>\n",
       "      <td>Pope Francis used his annual Christmas Day mes...</td>\n",
       "      <td>News</td>\n",
       "      <td>December 25, 2017</td>\n",
       "      <td>0</td>\n",
       "    </tr>\n",
       "  </tbody>\n",
       "</table>\n",
       "</div>"
      ],
      "text/plain": [
       "                                               title  \\\n",
       "0   Donald Trump Sends Out Embarrassing New Year’...   \n",
       "1   Drunk Bragging Trump Staffer Started Russian ...   \n",
       "2   Sheriff David Clarke Becomes An Internet Joke...   \n",
       "3   Trump Is So Obsessed He Even Has Obama’s Name...   \n",
       "4   Pope Francis Just Called Out Donald Trump Dur...   \n",
       "\n",
       "                                                text subject  \\\n",
       "0  Donald Trump just couldn t wish all Americans ...    News   \n",
       "1  House Intelligence Committee Chairman Devin Nu...    News   \n",
       "2  On Friday, it was revealed that former Milwauk...    News   \n",
       "3  On Christmas day, Donald Trump announced that ...    News   \n",
       "4  Pope Francis used his annual Christmas Day mes...    News   \n",
       "\n",
       "                date  Label  \n",
       "0  December 31, 2017      0  \n",
       "1  December 31, 2017      0  \n",
       "2  December 30, 2017      0  \n",
       "3  December 29, 2017      0  \n",
       "4  December 25, 2017      0  "
      ]
     },
     "execution_count": 9,
     "metadata": {},
     "output_type": "execute_result"
    }
   ],
   "source": [
    "Fake_df.head()"
   ]
  },
  {
   "cell_type": "code",
   "execution_count": 10,
   "id": "9bccba8a",
   "metadata": {},
   "outputs": [
    {
     "data": {
      "text/html": [
       "<div>\n",
       "<style scoped>\n",
       "    .dataframe tbody tr th:only-of-type {\n",
       "        vertical-align: middle;\n",
       "    }\n",
       "\n",
       "    .dataframe tbody tr th {\n",
       "        vertical-align: top;\n",
       "    }\n",
       "\n",
       "    .dataframe thead th {\n",
       "        text-align: right;\n",
       "    }\n",
       "</style>\n",
       "<table border=\"1\" class=\"dataframe\">\n",
       "  <thead>\n",
       "    <tr style=\"text-align: right;\">\n",
       "      <th></th>\n",
       "      <th>title</th>\n",
       "      <th>text</th>\n",
       "      <th>subject</th>\n",
       "      <th>date</th>\n",
       "      <th>Label</th>\n",
       "    </tr>\n",
       "  </thead>\n",
       "  <tbody>\n",
       "    <tr>\n",
       "      <th>0</th>\n",
       "      <td>Israeli Minister Calls For ‘Civil Targeted Ki...</td>\n",
       "      <td>In Israel, dehumanizing Palestinians and calli...</td>\n",
       "      <td>News</td>\n",
       "      <td>March 30, 2016</td>\n",
       "      <td>0</td>\n",
       "    </tr>\n",
       "    <tr>\n",
       "      <th>1</th>\n",
       "      <td>Why The NRA Could Be In Big Trouble For Break...</td>\n",
       "      <td>The National Rifle Association may be in viola...</td>\n",
       "      <td>News</td>\n",
       "      <td>January 3, 2016</td>\n",
       "      <td>0</td>\n",
       "    </tr>\n",
       "    <tr>\n",
       "      <th>2</th>\n",
       "      <td>Thanks To Capitalism, It Just Got A Lot Harde...</td>\n",
       "      <td>Just like with every presidential inauguration...</td>\n",
       "      <td>News</td>\n",
       "      <td>December 12, 2016</td>\n",
       "      <td>0</td>\n",
       "    </tr>\n",
       "    <tr>\n",
       "      <th>3</th>\n",
       "      <td>Trump to sign Russia sanctions bill: White House</td>\n",
       "      <td>WASHINGTON (Reuters) - U.S. President Donald T...</td>\n",
       "      <td>politicsNews</td>\n",
       "      <td>July 29, 2017</td>\n",
       "      <td>1</td>\n",
       "    </tr>\n",
       "    <tr>\n",
       "      <th>4</th>\n",
       "      <td>California Governor Brown pushes big water pro...</td>\n",
       "      <td>SACRAMENTO, Calif. (Reuters) - California Gove...</td>\n",
       "      <td>politicsNews</td>\n",
       "      <td>January 14, 2016</td>\n",
       "      <td>1</td>\n",
       "    </tr>\n",
       "    <tr>\n",
       "      <th>...</th>\n",
       "      <td>...</td>\n",
       "      <td>...</td>\n",
       "      <td>...</td>\n",
       "      <td>...</td>\n",
       "      <td>...</td>\n",
       "    </tr>\n",
       "    <tr>\n",
       "      <th>44893</th>\n",
       "      <td>BUSTED! FOX NEWS REPORTER Caught Twisting Poll...</td>\n",
       "      <td>Is anyone else sick to death of the bias on FO...</td>\n",
       "      <td>politics</td>\n",
       "      <td>Sep 2, 2016</td>\n",
       "      <td>0</td>\n",
       "    </tr>\n",
       "    <tr>\n",
       "      <th>44894</th>\n",
       "      <td>OBAMA RELEASES “CRAFTY” STATEMENT On Wiretappi...</td>\n",
       "      <td>Can you pick this statement apart and let us k...</td>\n",
       "      <td>politics</td>\n",
       "      <td>Mar 4, 2017</td>\n",
       "      <td>0</td>\n",
       "    </tr>\n",
       "    <tr>\n",
       "      <th>44895</th>\n",
       "      <td>LOL! DONALD TRUMP JR. Has HILARIOUS Response T...</td>\n",
       "      <td>In her new book  Hacks , Donna Brazile express...</td>\n",
       "      <td>left-news</td>\n",
       "      <td>Nov 8, 2017</td>\n",
       "      <td>0</td>\n",
       "    </tr>\n",
       "    <tr>\n",
       "      <th>44896</th>\n",
       "      <td>Merkel offers to work with Trump on basis of d...</td>\n",
       "      <td>BERLIN (Reuters) - German Chancellor Angela Me...</td>\n",
       "      <td>politicsNews</td>\n",
       "      <td>November 9, 2016</td>\n",
       "      <td>1</td>\n",
       "    </tr>\n",
       "    <tr>\n",
       "      <th>44897</th>\n",
       "      <td>Hillary Tweets An All-Out Attack On The GOP’s...</td>\n",
       "      <td>Hillary Clinton may be favored in the polls to...</td>\n",
       "      <td>News</td>\n",
       "      <td>February 16, 2016</td>\n",
       "      <td>0</td>\n",
       "    </tr>\n",
       "  </tbody>\n",
       "</table>\n",
       "<p>44898 rows × 5 columns</p>\n",
       "</div>"
      ],
      "text/plain": [
       "                                                   title  \\\n",
       "0       Israeli Minister Calls For ‘Civil Targeted Ki...   \n",
       "1       Why The NRA Could Be In Big Trouble For Break...   \n",
       "2       Thanks To Capitalism, It Just Got A Lot Harde...   \n",
       "3       Trump to sign Russia sanctions bill: White House   \n",
       "4      California Governor Brown pushes big water pro...   \n",
       "...                                                  ...   \n",
       "44893  BUSTED! FOX NEWS REPORTER Caught Twisting Poll...   \n",
       "44894  OBAMA RELEASES “CRAFTY” STATEMENT On Wiretappi...   \n",
       "44895  LOL! DONALD TRUMP JR. Has HILARIOUS Response T...   \n",
       "44896  Merkel offers to work with Trump on basis of d...   \n",
       "44897   Hillary Tweets An All-Out Attack On The GOP’s...   \n",
       "\n",
       "                                                    text       subject  \\\n",
       "0      In Israel, dehumanizing Palestinians and calli...          News   \n",
       "1      The National Rifle Association may be in viola...          News   \n",
       "2      Just like with every presidential inauguration...          News   \n",
       "3      WASHINGTON (Reuters) - U.S. President Donald T...  politicsNews   \n",
       "4      SACRAMENTO, Calif. (Reuters) - California Gove...  politicsNews   \n",
       "...                                                  ...           ...   \n",
       "44893  Is anyone else sick to death of the bias on FO...      politics   \n",
       "44894  Can you pick this statement apart and let us k...      politics   \n",
       "44895  In her new book  Hacks , Donna Brazile express...     left-news   \n",
       "44896  BERLIN (Reuters) - German Chancellor Angela Me...  politicsNews   \n",
       "44897  Hillary Clinton may be favored in the polls to...          News   \n",
       "\n",
       "                    date  Label  \n",
       "0         March 30, 2016      0  \n",
       "1        January 3, 2016      0  \n",
       "2      December 12, 2016      0  \n",
       "3         July 29, 2017       1  \n",
       "4      January 14, 2016       1  \n",
       "...                  ...    ...  \n",
       "44893        Sep 2, 2016      0  \n",
       "44894        Mar 4, 2017      0  \n",
       "44895        Nov 8, 2017      0  \n",
       "44896  November 9, 2016       1  \n",
       "44897  February 16, 2016      0  \n",
       "\n",
       "[44898 rows x 5 columns]"
      ]
     },
     "execution_count": 10,
     "metadata": {},
     "output_type": "execute_result"
    }
   ],
   "source": [
    "train_df = pd.concat([True_df,Fake_df]).sample(frac=1).reset_index(drop=True)\n",
    "train_df"
   ]
  },
  {
   "cell_type": "code",
   "execution_count": 11,
   "id": "51e80dd6",
   "metadata": {},
   "outputs": [
    {
     "data": {
      "text/plain": [
       "Label\n",
       "0    23481\n",
       "1    21417\n",
       "Name: count, dtype: int64"
      ]
     },
     "execution_count": 11,
     "metadata": {},
     "output_type": "execute_result"
    }
   ],
   "source": [
    "train_df['Label'].value_counts()"
   ]
  },
  {
   "cell_type": "code",
   "execution_count": 15,
   "id": "e923f005",
   "metadata": {},
   "outputs": [],
   "source": [
    "def clean_text(text):\n",
    "    text = text.lower()\n",
    "    text = re.sub(r\"https\\S+\",\"\",text)\n",
    "    text = re.sub(r\"d\\+\",\"\",text)\n",
    "    text = text.translate(str.maketrans('', '', string.punctuation))  \n",
    "    text = re.sub(r\"\\s+\", \" \", text)  \n",
    "    return text.strip()"
   ]
  },
  {
   "cell_type": "code",
   "execution_count": 16,
   "id": "dfffc652",
   "metadata": {},
   "outputs": [],
   "source": [
    "train_df['cleaned_text'] = train_df['text'].apply(clean_text)"
   ]
  },
  {
   "cell_type": "code",
   "execution_count": 17,
   "id": "b7849e64",
   "metadata": {},
   "outputs": [
    {
     "data": {
      "text/html": [
       "<div>\n",
       "<style scoped>\n",
       "    .dataframe tbody tr th:only-of-type {\n",
       "        vertical-align: middle;\n",
       "    }\n",
       "\n",
       "    .dataframe tbody tr th {\n",
       "        vertical-align: top;\n",
       "    }\n",
       "\n",
       "    .dataframe thead th {\n",
       "        text-align: right;\n",
       "    }\n",
       "</style>\n",
       "<table border=\"1\" class=\"dataframe\">\n",
       "  <thead>\n",
       "    <tr style=\"text-align: right;\">\n",
       "      <th></th>\n",
       "      <th>title</th>\n",
       "      <th>text</th>\n",
       "      <th>subject</th>\n",
       "      <th>date</th>\n",
       "      <th>Label</th>\n",
       "      <th>cleaned_text</th>\n",
       "    </tr>\n",
       "  </thead>\n",
       "  <tbody>\n",
       "    <tr>\n",
       "      <th>0</th>\n",
       "      <td>Israeli Minister Calls For ‘Civil Targeted Ki...</td>\n",
       "      <td>In Israel, dehumanizing Palestinians and calli...</td>\n",
       "      <td>News</td>\n",
       "      <td>March 30, 2016</td>\n",
       "      <td>0</td>\n",
       "      <td>in israel dehumanizing palestinians and callin...</td>\n",
       "    </tr>\n",
       "    <tr>\n",
       "      <th>1</th>\n",
       "      <td>Why The NRA Could Be In Big Trouble For Break...</td>\n",
       "      <td>The National Rifle Association may be in viola...</td>\n",
       "      <td>News</td>\n",
       "      <td>January 3, 2016</td>\n",
       "      <td>0</td>\n",
       "      <td>the national rifle association may be in viola...</td>\n",
       "    </tr>\n",
       "    <tr>\n",
       "      <th>2</th>\n",
       "      <td>Thanks To Capitalism, It Just Got A Lot Harde...</td>\n",
       "      <td>Just like with every presidential inauguration...</td>\n",
       "      <td>News</td>\n",
       "      <td>December 12, 2016</td>\n",
       "      <td>0</td>\n",
       "      <td>just like with every presidential inauguration...</td>\n",
       "    </tr>\n",
       "    <tr>\n",
       "      <th>3</th>\n",
       "      <td>Trump to sign Russia sanctions bill: White House</td>\n",
       "      <td>WASHINGTON (Reuters) - U.S. President Donald T...</td>\n",
       "      <td>politicsNews</td>\n",
       "      <td>July 29, 2017</td>\n",
       "      <td>1</td>\n",
       "      <td>washington reuters us president donald trump i...</td>\n",
       "    </tr>\n",
       "    <tr>\n",
       "      <th>4</th>\n",
       "      <td>California Governor Brown pushes big water pro...</td>\n",
       "      <td>SACRAMENTO, Calif. (Reuters) - California Gove...</td>\n",
       "      <td>politicsNews</td>\n",
       "      <td>January 14, 2016</td>\n",
       "      <td>1</td>\n",
       "      <td>sacramento calif reuters california governor j...</td>\n",
       "    </tr>\n",
       "    <tr>\n",
       "      <th>...</th>\n",
       "      <td>...</td>\n",
       "      <td>...</td>\n",
       "      <td>...</td>\n",
       "      <td>...</td>\n",
       "      <td>...</td>\n",
       "      <td>...</td>\n",
       "    </tr>\n",
       "    <tr>\n",
       "      <th>44893</th>\n",
       "      <td>BUSTED! FOX NEWS REPORTER Caught Twisting Poll...</td>\n",
       "      <td>Is anyone else sick to death of the bias on FO...</td>\n",
       "      <td>politics</td>\n",
       "      <td>Sep 2, 2016</td>\n",
       "      <td>0</td>\n",
       "      <td>is anyone else sick to death of the bias on fo...</td>\n",
       "    </tr>\n",
       "    <tr>\n",
       "      <th>44894</th>\n",
       "      <td>OBAMA RELEASES “CRAFTY” STATEMENT On Wiretappi...</td>\n",
       "      <td>Can you pick this statement apart and let us k...</td>\n",
       "      <td>politics</td>\n",
       "      <td>Mar 4, 2017</td>\n",
       "      <td>0</td>\n",
       "      <td>can you pick this statement apart and let us k...</td>\n",
       "    </tr>\n",
       "    <tr>\n",
       "      <th>44895</th>\n",
       "      <td>LOL! DONALD TRUMP JR. Has HILARIOUS Response T...</td>\n",
       "      <td>In her new book  Hacks , Donna Brazile express...</td>\n",
       "      <td>left-news</td>\n",
       "      <td>Nov 8, 2017</td>\n",
       "      <td>0</td>\n",
       "      <td>in her new book hacks donna brazile expressed ...</td>\n",
       "    </tr>\n",
       "    <tr>\n",
       "      <th>44896</th>\n",
       "      <td>Merkel offers to work with Trump on basis of d...</td>\n",
       "      <td>BERLIN (Reuters) - German Chancellor Angela Me...</td>\n",
       "      <td>politicsNews</td>\n",
       "      <td>November 9, 2016</td>\n",
       "      <td>1</td>\n",
       "      <td>berlin reuters german chancellor angela merkel...</td>\n",
       "    </tr>\n",
       "    <tr>\n",
       "      <th>44897</th>\n",
       "      <td>Hillary Tweets An All-Out Attack On The GOP’s...</td>\n",
       "      <td>Hillary Clinton may be favored in the polls to...</td>\n",
       "      <td>News</td>\n",
       "      <td>February 16, 2016</td>\n",
       "      <td>0</td>\n",
       "      <td>hillary clinton may be favored in the polls to...</td>\n",
       "    </tr>\n",
       "  </tbody>\n",
       "</table>\n",
       "<p>44898 rows × 6 columns</p>\n",
       "</div>"
      ],
      "text/plain": [
       "                                                   title  \\\n",
       "0       Israeli Minister Calls For ‘Civil Targeted Ki...   \n",
       "1       Why The NRA Could Be In Big Trouble For Break...   \n",
       "2       Thanks To Capitalism, It Just Got A Lot Harde...   \n",
       "3       Trump to sign Russia sanctions bill: White House   \n",
       "4      California Governor Brown pushes big water pro...   \n",
       "...                                                  ...   \n",
       "44893  BUSTED! FOX NEWS REPORTER Caught Twisting Poll...   \n",
       "44894  OBAMA RELEASES “CRAFTY” STATEMENT On Wiretappi...   \n",
       "44895  LOL! DONALD TRUMP JR. Has HILARIOUS Response T...   \n",
       "44896  Merkel offers to work with Trump on basis of d...   \n",
       "44897   Hillary Tweets An All-Out Attack On The GOP’s...   \n",
       "\n",
       "                                                    text       subject  \\\n",
       "0      In Israel, dehumanizing Palestinians and calli...          News   \n",
       "1      The National Rifle Association may be in viola...          News   \n",
       "2      Just like with every presidential inauguration...          News   \n",
       "3      WASHINGTON (Reuters) - U.S. President Donald T...  politicsNews   \n",
       "4      SACRAMENTO, Calif. (Reuters) - California Gove...  politicsNews   \n",
       "...                                                  ...           ...   \n",
       "44893  Is anyone else sick to death of the bias on FO...      politics   \n",
       "44894  Can you pick this statement apart and let us k...      politics   \n",
       "44895  In her new book  Hacks , Donna Brazile express...     left-news   \n",
       "44896  BERLIN (Reuters) - German Chancellor Angela Me...  politicsNews   \n",
       "44897  Hillary Clinton may be favored in the polls to...          News   \n",
       "\n",
       "                    date  Label  \\\n",
       "0         March 30, 2016      0   \n",
       "1        January 3, 2016      0   \n",
       "2      December 12, 2016      0   \n",
       "3         July 29, 2017       1   \n",
       "4      January 14, 2016       1   \n",
       "...                  ...    ...   \n",
       "44893        Sep 2, 2016      0   \n",
       "44894        Mar 4, 2017      0   \n",
       "44895        Nov 8, 2017      0   \n",
       "44896  November 9, 2016       1   \n",
       "44897  February 16, 2016      0   \n",
       "\n",
       "                                            cleaned_text  \n",
       "0      in israel dehumanizing palestinians and callin...  \n",
       "1      the national rifle association may be in viola...  \n",
       "2      just like with every presidential inauguration...  \n",
       "3      washington reuters us president donald trump i...  \n",
       "4      sacramento calif reuters california governor j...  \n",
       "...                                                  ...  \n",
       "44893  is anyone else sick to death of the bias on fo...  \n",
       "44894  can you pick this statement apart and let us k...  \n",
       "44895  in her new book hacks donna brazile expressed ...  \n",
       "44896  berlin reuters german chancellor angela merkel...  \n",
       "44897  hillary clinton may be favored in the polls to...  \n",
       "\n",
       "[44898 rows x 6 columns]"
      ]
     },
     "execution_count": 17,
     "metadata": {},
     "output_type": "execute_result"
    }
   ],
   "source": [
    "train_df"
   ]
  },
  {
   "cell_type": "code",
   "execution_count": 18,
   "id": "b15ab875",
   "metadata": {},
   "outputs": [],
   "source": [
    "X = train_df['cleaned_text']\n",
    "y = train_df['Label']"
   ]
  },
  {
   "cell_type": "code",
   "execution_count": 19,
   "id": "871a68fc",
   "metadata": {},
   "outputs": [],
   "source": [
    "X_train,X_test,Y_train,Y_test = train_test_split(X,y,test_size=0.2,random_state=42)"
   ]
  },
  {
   "cell_type": "code",
   "execution_count": 20,
   "id": "699e3ba5",
   "metadata": {},
   "outputs": [
    {
     "data": {
      "text/plain": [
       "Label\n",
       "0    18774\n",
       "1    17144\n",
       "Name: count, dtype: int64"
      ]
     },
     "execution_count": 20,
     "metadata": {},
     "output_type": "execute_result"
    }
   ],
   "source": [
    "Y_train.value_counts()"
   ]
  },
  {
   "cell_type": "code",
   "execution_count": 21,
   "id": "37f67a49",
   "metadata": {},
   "outputs": [],
   "source": [
    "model = Pipeline([\n",
    "        ('tfidf', TfidfVectorizer(stop_words='english', max_df=0.8)),\n",
    "        ('model', RandomForestClassifier(n_estimators=100,random_state=42))\n",
    "    ])"
   ]
  },
  {
   "cell_type": "code",
   "execution_count": 22,
   "id": "6413e3d2",
   "metadata": {},
   "outputs": [
    {
     "data": {
      "text/html": [
       "<style>#sk-container-id-1 {color: black;}#sk-container-id-1 pre{padding: 0;}#sk-container-id-1 div.sk-toggleable {background-color: white;}#sk-container-id-1 label.sk-toggleable__label {cursor: pointer;display: block;width: 100%;margin-bottom: 0;padding: 0.3em;box-sizing: border-box;text-align: center;}#sk-container-id-1 label.sk-toggleable__label-arrow:before {content: \"▸\";float: left;margin-right: 0.25em;color: #696969;}#sk-container-id-1 label.sk-toggleable__label-arrow:hover:before {color: black;}#sk-container-id-1 div.sk-estimator:hover label.sk-toggleable__label-arrow:before {color: black;}#sk-container-id-1 div.sk-toggleable__content {max-height: 0;max-width: 0;overflow: hidden;text-align: left;background-color: #f0f8ff;}#sk-container-id-1 div.sk-toggleable__content pre {margin: 0.2em;color: black;border-radius: 0.25em;background-color: #f0f8ff;}#sk-container-id-1 input.sk-toggleable__control:checked~div.sk-toggleable__content {max-height: 200px;max-width: 100%;overflow: auto;}#sk-container-id-1 input.sk-toggleable__control:checked~label.sk-toggleable__label-arrow:before {content: \"▾\";}#sk-container-id-1 div.sk-estimator input.sk-toggleable__control:checked~label.sk-toggleable__label {background-color: #d4ebff;}#sk-container-id-1 div.sk-label input.sk-toggleable__control:checked~label.sk-toggleable__label {background-color: #d4ebff;}#sk-container-id-1 input.sk-hidden--visually {border: 0;clip: rect(1px 1px 1px 1px);clip: rect(1px, 1px, 1px, 1px);height: 1px;margin: -1px;overflow: hidden;padding: 0;position: absolute;width: 1px;}#sk-container-id-1 div.sk-estimator {font-family: monospace;background-color: #f0f8ff;border: 1px dotted black;border-radius: 0.25em;box-sizing: border-box;margin-bottom: 0.5em;}#sk-container-id-1 div.sk-estimator:hover {background-color: #d4ebff;}#sk-container-id-1 div.sk-parallel-item::after {content: \"\";width: 100%;border-bottom: 1px solid gray;flex-grow: 1;}#sk-container-id-1 div.sk-label:hover label.sk-toggleable__label {background-color: #d4ebff;}#sk-container-id-1 div.sk-serial::before {content: \"\";position: absolute;border-left: 1px solid gray;box-sizing: border-box;top: 0;bottom: 0;left: 50%;z-index: 0;}#sk-container-id-1 div.sk-serial {display: flex;flex-direction: column;align-items: center;background-color: white;padding-right: 0.2em;padding-left: 0.2em;position: relative;}#sk-container-id-1 div.sk-item {position: relative;z-index: 1;}#sk-container-id-1 div.sk-parallel {display: flex;align-items: stretch;justify-content: center;background-color: white;position: relative;}#sk-container-id-1 div.sk-item::before, #sk-container-id-1 div.sk-parallel-item::before {content: \"\";position: absolute;border-left: 1px solid gray;box-sizing: border-box;top: 0;bottom: 0;left: 50%;z-index: -1;}#sk-container-id-1 div.sk-parallel-item {display: flex;flex-direction: column;z-index: 1;position: relative;background-color: white;}#sk-container-id-1 div.sk-parallel-item:first-child::after {align-self: flex-end;width: 50%;}#sk-container-id-1 div.sk-parallel-item:last-child::after {align-self: flex-start;width: 50%;}#sk-container-id-1 div.sk-parallel-item:only-child::after {width: 0;}#sk-container-id-1 div.sk-dashed-wrapped {border: 1px dashed gray;margin: 0 0.4em 0.5em 0.4em;box-sizing: border-box;padding-bottom: 0.4em;background-color: white;}#sk-container-id-1 div.sk-label label {font-family: monospace;font-weight: bold;display: inline-block;line-height: 1.2em;}#sk-container-id-1 div.sk-label-container {text-align: center;}#sk-container-id-1 div.sk-container {/* jupyter's `normalize.less` sets `[hidden] { display: none; }` but bootstrap.min.css set `[hidden] { display: none !important; }` so we also need the `!important` here to be able to override the default hidden behavior on the sphinx rendered scikit-learn.org. See: https://github.com/scikit-learn/scikit-learn/issues/21755 */display: inline-block !important;position: relative;}#sk-container-id-1 div.sk-text-repr-fallback {display: none;}</style><div id=\"sk-container-id-1\" class=\"sk-top-container\"><div class=\"sk-text-repr-fallback\"><pre>Pipeline(steps=[(&#x27;tfidf&#x27;, TfidfVectorizer(max_df=0.8, stop_words=&#x27;english&#x27;)),\n",
       "                (&#x27;model&#x27;, RandomForestClassifier(random_state=42))])</pre><b>In a Jupyter environment, please rerun this cell to show the HTML representation or trust the notebook. <br />On GitHub, the HTML representation is unable to render, please try loading this page with nbviewer.org.</b></div><div class=\"sk-container\" hidden><div class=\"sk-item sk-dashed-wrapped\"><div class=\"sk-label-container\"><div class=\"sk-label sk-toggleable\"><input class=\"sk-toggleable__control sk-hidden--visually\" id=\"sk-estimator-id-1\" type=\"checkbox\" ><label for=\"sk-estimator-id-1\" class=\"sk-toggleable__label sk-toggleable__label-arrow\">Pipeline</label><div class=\"sk-toggleable__content\"><pre>Pipeline(steps=[(&#x27;tfidf&#x27;, TfidfVectorizer(max_df=0.8, stop_words=&#x27;english&#x27;)),\n",
       "                (&#x27;model&#x27;, RandomForestClassifier(random_state=42))])</pre></div></div></div><div class=\"sk-serial\"><div class=\"sk-item\"><div class=\"sk-estimator sk-toggleable\"><input class=\"sk-toggleable__control sk-hidden--visually\" id=\"sk-estimator-id-2\" type=\"checkbox\" ><label for=\"sk-estimator-id-2\" class=\"sk-toggleable__label sk-toggleable__label-arrow\">TfidfVectorizer</label><div class=\"sk-toggleable__content\"><pre>TfidfVectorizer(max_df=0.8, stop_words=&#x27;english&#x27;)</pre></div></div></div><div class=\"sk-item\"><div class=\"sk-estimator sk-toggleable\"><input class=\"sk-toggleable__control sk-hidden--visually\" id=\"sk-estimator-id-3\" type=\"checkbox\" ><label for=\"sk-estimator-id-3\" class=\"sk-toggleable__label sk-toggleable__label-arrow\">RandomForestClassifier</label><div class=\"sk-toggleable__content\"><pre>RandomForestClassifier(random_state=42)</pre></div></div></div></div></div></div></div>"
      ],
      "text/plain": [
       "Pipeline(steps=[('tfidf', TfidfVectorizer(max_df=0.8, stop_words='english')),\n",
       "                ('model', RandomForestClassifier(random_state=42))])"
      ]
     },
     "execution_count": 22,
     "metadata": {},
     "output_type": "execute_result"
    }
   ],
   "source": [
    "model.fit(X_train,Y_train)"
   ]
  },
  {
   "cell_type": "code",
   "execution_count": 34,
   "id": "bfe938b0",
   "metadata": {},
   "outputs": [
    {
     "data": {
      "text/plain": [
       "0.9874164810690423"
      ]
     },
     "execution_count": 34,
     "metadata": {},
     "output_type": "execute_result"
    }
   ],
   "source": [
    "model.score(X_test,Y_test)"
   ]
  },
  {
   "cell_type": "code",
   "execution_count": 27,
   "id": "af4716df",
   "metadata": {},
   "outputs": [],
   "source": [
    "y_pred = model.predict(X_test)"
   ]
  },
  {
   "cell_type": "code",
   "execution_count": 29,
   "id": "46a95af1",
   "metadata": {},
   "outputs": [
    {
     "name": "stdout",
     "output_type": "stream",
     "text": [
      "              precision    recall  f1-score   support\n",
      "\n",
      "           0       0.99      0.99      0.99      4707\n",
      "           1       0.99      0.99      0.99      4273\n",
      "\n",
      "    accuracy                           0.99      8980\n",
      "   macro avg       0.99      0.99      0.99      8980\n",
      "weighted avg       0.99      0.99      0.99      8980\n",
      "\n"
     ]
    }
   ],
   "source": [
    "print(classification_report(Y_test,y_pred))"
   ]
  },
  {
   "cell_type": "code",
   "execution_count": 25,
   "id": "5c86a9aa",
   "metadata": {},
   "outputs": [],
   "source": [
    "predictions = model.predict(X_test)"
   ]
  },
  {
   "cell_type": "code",
   "execution_count": 26,
   "id": "4ea59896",
   "metadata": {},
   "outputs": [
    {
     "name": "stdout",
     "output_type": "stream",
     "text": [
      "News Text:\n",
      "the former fox news contributor and editor of the weekly standard bill kristol took to twitter to appease his newfound liberal friends with a disgusting tweet mocking devout christian and genuine conservative vice president mike pence ever since president trump won the election kristol and his nevertrump friends have become unhinged with hate for the president and for anyone he surrounds himself with yesterday vice president mike pence made a surprise visit to the troops in wartorn afghanistan to roll out president trump s new fight to win policypence addressed the troops at a bagram airfield hangar telling them that before he made his trip he asked president trump what message he wanted to be delivered to the troops here is pence s touching message to the troops from president trumppence told the troops before i left the white house yesterday i asked trump if he had a message for our troops here in afghanistan and he looked at me and said tell them i love them and he didwatchbefore i left the whitehouse yesterday i asked potus trump if he had a message for our troops here in afghanistan and he looked at me and said tell them i love them pictwittercompo4f7z5vox vice president mike pence vp december 21 2017 nevertrumper and former frequent fox news guest bill kristol mocked vice president mike pence over his speech to our troops kristol wroteand i a mere humble and unworthy vp gazed back into the kindly and understanding eyes of the great and glorious potus and said thank you o potus and thank you for letting us say once again merry christmas and i a mere humble and unworthy vp gazed back into the kindly and understanding eyes of the great and glorious potus and said thank you o potus and thank you for letting us say once again merry christmas bill kristol billkristol december 22 2017little sad man bill kristol who was once respected by conservative americans has been reduced to retweeting glowing articles about himself published by liberal rag publications like the slate to discuss where republicans went awry whether palin abetted trump s rise and the costs of rationalization new ihavetoaskpod billkristol talks about where republicans went awry whether palin abetted trumps rise and the costs of rationalization isaac chotiner ichotiner december 21 2017\n",
      "Prediction: Fake\n",
      "------------------------------------------------------------\n",
      "News Text:\n",
      "beijingtokyo reuters hillary clinton put donald trump on the defensive and showed a better grasp of foreign policy issues according to a sampling of people across asia who watched the fiery first us presidential debate in china the debate was streamed live on china’s twitterlike weibo service and attracted thousands of comments despite the lack of a translation into chinese some called trump “a loose cannon” while others thought that as a businessman he was best qualified to lead the world’s largest economy william hua a chinese lawyer who watched the debate at an american chamber of commerce event in beijing said he thought clinton came out on top he was most concerned though about an issue that didn’t come up in the debate “donald trump says japan and south korea can develop nuclear weapons it seems absolutely ridiculous” hua said trump said in an interview with the new york times in march he would consider letting japan and south korea build their own nuclear weapons rather than rely on america for protection against north korea opinion polls have shown the two candidates in a tight race leading up to the debate a cnn poll of debate watchers released after the event found 62 percent felt clinton won compared to 27 percent for trump in a sign investors also saw clinton as the winner us sp500 stock futures rose as did asian shares “markets started to call the debate for hillary within the first 15 minutes or so with the mexican peso surging in what is probably its busiest asian session in years” said sean callow a senior currency analyst at westpac in sydney the mexican currency has risen and fallen in recent weeks depending on polling numbers for trump who has vowed to take trade protectionist measure against the united states’ southern neighbor and build a wall across the us border with mexico to prevent illegal immigration trump raised eyebrows among a packed crowd watching the debate at the american club in singapore when he lashed out against china “look at what china is doing to our country” trump said not long after the debate began “they are devaluing their currency and we have nobody in our government to fight them they are using our country as a piggy bank to rebuild china and many other countries are doing the same thing” landy eng a former employee of the california state government who’s been living in singapore the past 20 years said he was an undecided voter “but trump’s chinabashing is something i’m not particularly in favor of” he said still eng said he does like the “disruptive” factor of trump’s campaign and thinks it is making clinton a better candidate aloysius lee a 65yearold retiree from hong kong who watched the debate at the foreign correspondents’ club in the territory said that trump was too unpredictable “hillary is the kind of person you can do business with at least from my point of view” lee said with trump “you don’t know what’s going to happen next you don’t know what he’s going to say next” south koreans watching the debate on tv screens in the lobby of seoul’s central train station said they were with clinton on the issues “trump has ideas of withdrawing us forces from our country and in terms of national security trump is a threatening figure” said lee hyojin 26 “so i support hillary” she said trump during the debate again said if us allies like japan and south korea “don’t pay their fair share they may have to defend themselves or help us out” asked about trump’s comment japan’s defence minister tomomi inada told a regularly scheduled news conference on tuesday the usjapan military alliance does not just benefit japan “but is also in the interests of the united states” clinton seemed to have the better temperament during the debate according to some asian viewers li jiaoli 21 an editing intern from china’s southwestern province of sichuan said clinton seemed more presidential while trump’s expressions made her laugh “trump’s responses were too aggressive highlevel politicians should have more selfcontrol” li said the debate prompted a storm of tweets around the region many of them commenting on the optics of the debate “trump is looking worked up and angry and sulky and shouty she looks utterly in control by contrast” said barkha dutt news anchor on india’s ndtv in a tweet “she ignores his barbs attacks he gets baited by every one of hers” mel fryer 30 a waitress at the mercantile hotel in sydney’s historic rocks district said she was “terrified” at the prospect of a trump presidency while the debate screened to an empty pub “but he’s going ok” she said of his debate performance “he uses simple words and simple phrases and gets his point across”\n",
      "Prediction: Real\n",
      "------------------------------------------------------------\n",
      "News Text:\n",
      "\n",
      "Prediction: Fake\n",
      "------------------------------------------------------------\n",
      "News Text:\n",
      "facebook ceo mark zuckerberg appears to be concerned about being spied on a photo that he shared to help celebrate instagram s 500 million monthly active users shows the camera and audio jack on the billionaire s macbook covered with pieces of tape in the photo posted on tuesday zuckerberg is sporting a wide smile and his signature gray tshirt and dark denim jeans he s holding a lifesized instagram frame that reads thanks to everyone in our community for helping us reach this milestone after posting the photo online several internet users spotted and pointed out the tape covering his camera and audio jack on his macbook at his desk it s rumored that skilled hackers are able to take over the front facing cameras on laptops when they re not covered up it appears as though zuckerberg who is worth 357billion is trying to prevent that from happening by placing a piece of tape over his camera making the webcam useless zuckerberg has been previously photographed at the same desk roughly nine months ago while on a tour he showed off the same desk that s complete with the same items on it then as it is now according to gizmodoread more daily mailthe future of facebook liberal video video videofacebook is paying huge money to liberal news sights to produce live video and other news to push out buzzfeed new york times and other liberal news sources like cnn are involved in producing live video which they say is the future of facebook you might ask why only liberal news sites used except for the fact that suppression of conservative news has been exposed in the last few weeks it s been known for some time that facebook is paying media companies and celebrities cash in return for using its facebook live video feature but what hasn t been known is exactly how much it is paying them according to a document recently obtained by the wall street journal the social networking giant has signed as many as 140 contracts worth a total of 50 millionthe list of media outlets being paid by facebook includes traditional players such as cnn and the new york times the journal says as well as digitalonly publishers like vox mashable and buzzfeed the celebrities who are being compensated for creating live video include comedian kevin hart and chef gordon ramsaysome contracts are worth smaller amounts while 17 of the deals facebook has signed are worth more than 1 million according to the document obtained by the journal two media outlets are getting paid more than 3 million to create live video buzzfeed and the new york times and cnn is not far behind with a reported payment of 25 millionget data sheet fortune s technology newsletterthe first reports about facebook fb 090 paying media companies andor celebrities to create live video emerged in march when recode reported that coo sheryl sandberg was in hollywood talking with talent agencies and artists representatives and offering to get out her checkbook to get them using the platform the livestreaming feature was launched first for celebrities in 2015 then rolled out to everyonein april the executive in charge of facebook live fidji simo who we spoke with recently about the platform told recode that the company was also working with media partners and said in some of the cases that includes a financial incentive time inc which owns fortune has a relationship with facebook that relates to the creation of facebook live videoalso in april buzzfeed confirmed in a roundabout way that it was one of the partners being paid by facebook a story about paying video creators quoted an anonymous source as saying that the social network was paying media partners around 250000 for 20 posts per month over a threemonth period and then mentioned parenthetically that buzzfeed was one of them via fortune\n",
      "Prediction: Fake\n",
      "------------------------------------------------------------\n",
      "News Text:\n",
      "this is why american kids who are graduating from schools where tuition is over 60000 per year can t find a job america s elite colleges offer plenty of ridiculous courses many are taught by hilariously leftist professors straight out of central casting other classes transcend politics and exist on their own fabulous plane of stupidity many of them cost a ton of moneyfor the daily caller s list of pathetic college classes for 2015 the course descriptions are reprinted here exactly as they appear in the colleges course manualscornell university physical education tree climbing whether you are a rain forest canopy researcher an arborist or just a kid at heart everyone loves to climb trees recall the excitement and your sense of adventure when you first crawled into the branches to look inside a bird s nest then you swung from limb to limb without a thought of ropes and harnesses but what about that big tree down the street you always wanted to climb but couldn t reach the first branch cornell outdoor education s tree climbing course will teach you how to get up into the canopy of any tree to move around even to climb from one tree to another without touching the ground this course will teach you how to use ropes and technical climbing gear to reach the top of any tree to move around and even to climb from tree to tree without returning to the ground all equipment is included in the course fee total cost for a year at cornell 64164brown university english on being bored this course explores textsfilms that represent and formally express states of nonproductivity or nondesire beginning with the enlightenment and romantic periods we will reflect on narratives with neither progress nor plot characters that resist characterization and poems that deny assertion and revelation authors include kleist kant rousseau coleridge de quincey keats blanchot levinas beckett ashbery schuyler total cost for a year at brown 65380university of pennsylvania english wasting time on the internet we spend our lives in front of screens mostly wasting time checking social media watching cat videos chatting and shopping what if these activities clicking smsing statusupdating and random surfing were used as raw material for creating compelling and emotional works of literature could we reconstruct our autobiography using only facebook could we write a great novella by plundering our twitter feed could we reframe the internet as the greatest poem ever written using our laptops and a wifi connection as our only materials this class will focus on the alchemical recuperation of aimless surfing into substantial works of literature students will be required to stare at the screen for three hours only interacting through chat rooms bots social media and listservs to bolster our practice we ll explore the long history of the recuperation of boredom and timewasting through critical texts about affect theory asmr situationism and everyday life by thinkers such as guy debord mary kelly erving goffman betty friedan raymond williams john cage georges perec michel de certeau henri lefevbre trin minhha stuart hall sianne ngai siegfried kracauer and others distraction multitasking and aimless drifting is mandatory total cost for a year at penn 66800oberlin college contemporary american studies how to win a beauty pageant race gender culture and us national identity this course examines us beauty pageants from the 1920s to the present our aim will be to analyze pageantry as a unique site for the interplay of racegender class sexuality and nation we will learn about cultural studies methodology including close reading cultural history critical discourse analysis and ethnography and use those methods to understand the changing identity of the us over time this course includes a field visit to a pageant in ohio total cost for a year at oberlin 66174occidental college critical theory social justice stupidity stupidity is neither ignorance nor organicity but rather a corollary of knowing and an element of normalcy the double of intelligence rather than its opposite it is an artifact of our nature as finite beings and one of the most powerful determinants of human destiny stupidity is always the name of the other and it is the sign of the feminine this course in critical psychology follows the work of friedrich nietzsche gilles deleuze and most recently avital ronell in a philosophical examination of those operations and technologies that we conduct in order to render ourselves uncomprehending stupidity which has been evicted from the philosophical premises and dumbed down by psychometric psychology has returned in the postmodern discourse against nation self and truth and makes itself felt in political life ranging from the presidency to beavis and butthead total cost for a year at occidental 63194pitzer college asian american studies tattoos piercing and body adornment this course introduces students to various body modification practices with particular focus on regional developments in asia pacific and america key issues include identity and community formation agency power and social control colonialism and postcolonialism cultural property and appropriation global circulations of bodies aesthetics and labor total cost for a year at pitzer 63880rutgers university new brunswick women s and gender studies women culture and society pop culture politics in this class we will analyze mainstream us media and discuss everything pop culture from memes to advertising music videos tv shows news sports and reality tv what are we being told to believe we will talk about ideas as trivialized and political as sex love war and freedom and we will explore how the field of gender studies can transform our understandings of knowledge power history and ultimately what we ve come to call society yup you guessed it this will not be your everyday class there will be no papers and no final so active participation is key we will read a little and watch lots of media for example check out beyonc s awesome video grown woman axe s 2014 super bowl commercial and shit girls say to inquire what it means to stop for a minute look around and ask why total cost for a year at rutgers for new jersey residents 29875georgia state university english kanye versus everbody sic kanye west has been talking your head off over the past several years especially the variously prolific rapper has been waxing poetic making a series of public proclamations and postulations regarding aspects of his own aesthetic genius and the plight of the black creative mind today all while tussling with paparazzi literally and figuratively in an effort to be accurately understood the designer and defender of his own celebrity kanye expresses an intellectual stance and an extreme sense of agency that arguably exemplify the critical perspective of our latest generation of public thinkers but where does this conversation about cultural production and artistic temperament actually begin and where is the discourse heading total cost for a year at georgia state for georgia residents 24448university of iowa american studies the american vacation vacations are more serious events than you might think one hundred years ago a vacation might have been beyond your grasp now we take them for granted explore coney island atlantic city lake okoboji yellowstone disney world and more total cost for a year at georgia state for iowa residents 21010skidmore college sociology the sociology of miley cyrus race class gender and media summer 2014 from disney tween to twerking machine miley cyrus has grown up in the public eye trying on and discarding very different identities onscreen and off she provides rich examples for analyzing aspects of intersectional identities and media representation including the rise of the disney princess gender stratification and the hypercommodification of childhood transitions to disney stars as they age see justin timberlake britney spears christina aguilera and more allies and appropriation uses of culture across race class and gender bisexuality queerness and the female body ongoing media frenzy focused on miley cyrus s public image music and body highlights the ways in which intersectional identities are shaped by pop culture and mass media in this special topics course we will explore core issues of intersectionality theory looking at race class and gender as well as issues of taking feminist critique of media using miley as a lens though which to explore sociological thinking about identity entertainment media and fame total cost for a year at skidmore 62042and of course no college experience would be complete without exploring the benefits of having an abortionuniversity of california san francisco online course abortion quality care and public health implications in this sixweek course over twenty faculty from various institutions and multiple disciplines will place abortion within the context of public health and fill in the gaps left by its exclusion from mainstream curricula in health professions each week s lectures will incorporate the stories of women who seek abortion in order to better portray abortion significance and rationale other topics will include a brief history of abortion the clinical aspects of medication and procedural abortions in and after the first trimester an overview of patientcentered abortioncare the basics of abortion counseling the professional obligations of health care practitioners to ensure that women have access to safe abortion care and the maze of restrictions that make safe abortion care inaccessible to many women in addition to video lectures there will be weekly quizzes peer assessments and optional additional content and reading for learners who want to explore the topic further this course is an online course from courserafor entire list daily caller\n",
      "Prediction: Fake\n",
      "------------------------------------------------------------\n",
      "News Text:\n",
      "if you ever need to know exactly how divisive donald trump has been if you ever need a perfect example you don t need to look much further than donald trump s twitter timeline while it is a cesspit of racist garbage on a good day sometimes his fans stand out and one of them serves as a perfect reminder of what exactly we are righting againston sunday trump bragged about his ratings in a desperate effort to distract from the fact that no one showed up to his party on fridaywow television ratings just out 31 million people watched the inauguration 11 million more than the very good ratings from 4 years ago donald j trump realdonaldtrump january 22 2017meet carl tischer carl decided to put on his whitehooded battle armor and jump to the donald s defense as seemingly the whole world was making fun of our pussgrabberinchief in response to legitimate criticism of the donald tischer let everyone know that 30 million americans just wanted to see barack and michelle who is a man according to this obviously welleducated cracker leave the white housemikd33 realdonaldtrump i certainly do thank god barry and his hubby moochel are gone now we can actually maga trumpnation lololol carl tischer carltischer january 22 2017kreasechan realdonaldtrump 30 mil were watching to see barry and his hubby moochel leave for good its time to maga lolololtrumpnation carl tischer carltischer january 22 2017in other replies to trump s ratings announcement tischer shared his pearls of wisdom about niggas nugs and nigs fryan realdonaldtrump latimes 7 million fewer niggas on welfare is why they were waiting for their free ohshitforbrains phone maga carl tischer carltischer january 22 2017fryan goldylevy realdonaldtrump latimes you are right 7 million niggas in line for their free ohshitforbrains phone trumpnation maga carl tischer carltischer january 22 2017mottel realdonaldtrump variety we sure do miss all the nigs in the crowd waiting for their free ohshitforbrains phones lol maga maga carl tischer carltischer january 22 2017justinhendrix realdonaldtrump variety we dont care who cares if 7 million nigs werent there waiting for the free ohshitforbrains phone carl tischer carltischer january 22 2017julessu realdonaldtrump the only ones home were the nigs figuring out how to get their next free phone lol trumpnation maga lol carl tischer carltischer january 22 2017fryan goldylevy realdonaldtrump latimes simple da nugs have to tie their own shoes now and pay for their own phones lol maga carl tischer carltischer january 22 2017plaidundercat good fo u nug whore now go turn your phone on and git to work lol maga barry and his hubby moochel are gone maga carl tischer carltischer january 22 2017this old fashioned hard worker an apparent new slang term for racist seems really fixated on all these nug phones that are used to help sell crack fryan realdonaldtrump latimes just an ol fashioned hard worker no more ohshitforbrains phonestime to maga trumpnation git to work carl tischer carltischer january 22 2017carltspeak damn right its classy no mo free phones time for the adults to take control lol trumpnation maga work work work carl tischer carltischer january 22 2017varonajo justinhendrix realdonaldtrump variety dont matter they have made my own way all my life never had a free phone lol maga carl tischer carltischer january 22 2017uuuukewithme fryan goldylevy latimes oh yeah it was a total compliment no mo free phones maga work work work lololll maga carl tischer carltischer january 22 2017uuuukewithme fryan goldylevy latimes the phones were to help sell the crack you big dummy shut up adults are talking maga carl tischer carltischer january 22 2017fryan goldylevy realdonaldtrump latimes poor nugs got to actually work for a living now gonna be a big change lololol maga carl tischer carltischer january 22 2017carl would be interested to know that the safelink program what he calls obamaphones actually began under george w bush though reagan deserves much of the credit for getting things rolling but carl isn t interested in facts he wants to maga or something the perfectly sane rational person totally not unhinged rant continued for hours across twitter bringing us numerous examples of what it means to be a trump fanalexthecynic fryan goldylevy realdonaldtrump latimes zero to do with skin color dipshit nig is a nig no matter what color wake up carl tischer carltischer january 22 2017terric324 wouldnt waste my money going to south shitcago to see punk thugs please come see me omg talk about fun slaughterhouse fun carl tischer carltischer january 22 2017alexthecynic fryan goldylevy realdonaldtrump latimes all you madonna loving pukes are retarded sore looserslets blow up the whsmfh carl tischer carltischer january 22 2017bullcityva adrunkteacher whores like you need to get off your backs and get a real job your back and legs must be soreoh that sore puzzy carl tischer carltischer january 22 2017itsjanaej1 adrunkteacher heres one for ya rather easy to understand fuck off and blow me maga trumpnation carl tischer carltischer january 22 2017but not to worry folks carl s not a racist you areyvettec66 fryan realdonaldtrump latimes theres where you are wrong nigs have 0 to do with color no mo free phones lol maga carl tischer carltischer january 22 2017pulais2010 terric324 again id like to thank all you racist fucks that bring up at 33 followersnigga is not about colorwake up carl tischer carltischer january 22 2017according to his facebook tischer is retired and he must be as he has seemingly all day to sit around spouting racist garbage in support of the most unpopular president to ever disgrace our great nationwhen trump supporters say make america great again they don t mean it it s a code phrase meaning kill the n hispanics and muslims that s literally all they care aboutfeatured image via getty images pooltwitter\n",
      "Prediction: Fake\n",
      "------------------------------------------------------------\n",
      "News Text:\n",
      "dubai reuters etihad airways is advising some passengers to check with us diplomatic missions before traveling after us president donald trump signed a revised executive order banning visits by nationals of six muslimmajority nations monday’s order which takes effect on march 16 keeps a 90day ban on travel to the us by citizens of iran libya syria somalia sudan and yemen it applies only to new visa applicants meaning about 60000 people whose visas were revoked by the previous order will now be permitted to enter etihad based in the united arab emirates said it was strongly encouraging nationals of the listed countries “to consult with their nearest united states embassy or consulate to ensure they are legally entitled to enter the united states” fellow uae carrier emirates said it was aware of the new order and would adhere to it”emirates will comply with the guidance provided to us by the us customs and border protection” an airline spokeswoman said by email the carrier was forced to reschedule flight crew on some us flights to comply with the original ban trump’s original jan 27 executive order suspended on feb 3 caused chaos and confusion at airports worldwide with the airline industry complaining about a lack of clear and direct communication from us officials hours before monday’s order was signed a qatar airways spokeswoman told reuters it had not received guidance from the us government about the new ban\n",
      "Prediction: Real\n",
      "------------------------------------------------------------\n",
      "News Text:\n",
      "washington reuters president donald trump’s weekend remark about a scaledback tax cut for corporations sparked behindthescenes debate in the us congress with a white house aide trying on thursday to minimize the impact of the president’s comment two rival tax bills passed separately by the senate and the house of representatives propose cutting the us corporate tax rate to 20 percent but they differ in other areas that republicans are trying to merge into final legislation speaking to reporters after the senate approved its tax bill on saturday trump said the corporate tax rate in the final legislation expected soon from lawmakers “could be 22 percent it could also be 20 percent” the remark whetted the interest of some republicans who see a slight upward bump in the proposed corporate tax rate as capturing needed federal revenue that would help solve other problems with the legislation according to lobbyists “the 20 percent rate ought to be our goal” said house ways and means committee chairman kevin brady who is expected to head a bicameral housesenate negotiating committee “my view is the president is giving us flexibility in that area if it’s needed no decision’s been made on if that’s needed” the texas republican told reporters but white house legislative affairs director marc short told reuters on thursday that trump was not voicing support for a higher proposed corporate rate instead he may have been only expressing views conveyed to him by republican senators “i think he was just reflecting what conversations he had heard from them but that wasn’t intended to signal this is an endorsement of raising the corporate rate” short said “we believe that 20 percent is the right number 20 percent is about as high as we feel comfortable going” he said in an interview trump and his republican allies have plenty riding on what happens over the next few weeks a sweeping us tax overhaul which has not been achieved since 1986 would give republicans their first major legislative victory of 2017 after their failure to overturn former president barack obama’s healthcare law without a win republicans fear they could lose their control of the house and senate in the 2018 congressional elections but it may be too late to avoid confusion over priorities as the tax debate moves forward in congress lobbyists said many perceive that trump and his advisers would accept a corporate rate higher than 20 percent white house economic adviser kevin hassett said on thursday that a 22 percent corporate rate would not undermine the economic boost that republicans say tax cuts will create analysts say the corporate income tax rate could be a ready source of revenue for lawmakers as they move toward a final bill that can lose no more than 15 trillion in revenue over the next decade under senate rules republicans are considering a more costly deduction for state and local taxes than the 10000 property tax deduction contained in the house and senate bills one version would allow taxpayers to choose a 10000 deduction for either property or income taxes house lawmakers also want to adopt the house bill’s repeal of the corporate alternative minimum tax which would cost about 40 billion in revenue over a decade according to the joint committee on taxation senate retained the tax a house limit on the amount of debt interest payments that businesses can deduct from their income would also cost about 136 billion more than the senate version the jct said analysts say a one percentage point change in the corporate rate equals about 100 billion in revenues over a decade\n",
      "Prediction: Real\n",
      "------------------------------------------------------------\n",
      "News Text:\n",
      "washington reuters president donald trump signed a temporary order on thursday to keep the us embassy in israel in tel aviv instead of relocating it to jerusalem despite his campaign pledge to go ahead with the controversial move after months of fierce debate within his administration trump chose to continue his predecessors’ policy of signing a sixmonth waiver overriding a 1995 law requiring that the embassy be transferred to jerusalem an action that would have complicated his efforts to restart israelipalestinian peace talks the white house insisted however that the decision which is sure to disappoint israel’s us supporters did not mean trump was abandoning the goal of eventually shifting the embassy to jerusalem but a us official said no timetable has been set “the question is not if that move happens but only when” the white house said in a statement with a deadline looming trump made the decision to defer action on the embassy “to maximize the chances of successfully negotiating a deal between israel and the palestinians fulfilling his solemn obligation to defend america’s national security interests” the white house said palestinian leaders arab governments and western allies had urged trump not to proceed with the embassy relocation which would have upended decades of us policy by granting what would have been seen as de facto us recognition of israel’s claim to all of jerusalem as its capital “though israel is disappointed that the embassy will not move at this time we appreciate today’s expression of president trump’s friendship to israel and his commitment to moving the embassy in the future” israeli prime minister benjamin netanyahu’s office said in a statement taking a harder stance israeli education minister naftali bennett a farright member of netanyahu’s coalition said delaying the move would “damage the prospect of a lasting peace by nurturing false expectations among the palestinians regarding the division of jerusalem which will never happen” nabil abu rdainah a close aide to palestinian president mahmoud abbas said trump’s decision “reaffirms the seriousness of the united states in its efforts to achieve peace” trump avoided any public mention of a potential embassy move during his visit to israel and the west bank in may despite that most experts are skeptical of trump’s chances for achieving a peace deal that had eluded other us presidents the status of jerusalem is one of the major stumbling blocks israel captured arab east jerusalem during the 1967 middle east war and later annexed it a move not recognized internationally israel considers all of the city its indivisible capital the palestinians want east jerusalem as the capital of their future state jerusalem is home to sites considered holy by the jewish muslim and christian religions successive us administrations have insisted that jerusalem’s status must be decided in negotiations on the campaign trail trump’s proisrael rhetoric raised expectations that he would act quickly to move the embassy but after he took office in january the issue lost momentum as he met arab leaders who warned it would be hard to rejuvenate longstalled peace efforts unless he acted as a fair mediator some of trump’s top aides pushed for him to keep his campaign promise to satisfy the proisrael rightwing base that helped him win the presidency the state department however recommended against an embassy move one us official said “no one should consider this step to be in any way a retreat from the president’s strong support for israel” according to the white house statement on the signing of the waiver\n",
      "Prediction: Real\n",
      "------------------------------------------------------------\n",
      "News Text:\n",
      "judge sri srinivasan is a possible pick for obama to replace justice scalia on the supreme court we only know one particular case where he paved the way for gay marriage social issues like abortion and gay marriage are big sticking points for conservatives could a judge who has no track record on social issues be appointed by obama this would be a smart move on obama s part because there would be no ammunition for declining this nominee one possible contender to replace justice antonin scalia on the us supreme court is an indianamerican appeals court judge sri srinivasan who has probusiness credentials and a stellar resumeif he was nominated his background may make it more politically challenging for republicans as they plan to block anyone put forward by president barack obamasrinivasan 48 has served on the us court of appeals for the district of columbia circuit since he was confirmed on a 970 bipartisan vote in the us senate in may 2013 republican senators who supported him then would likely be asked to justify why they couldn t back him for the supreme courtmany names are likely under consideration and the white house has not tipped its hand but recent supreme court appointments have tended to be appeals court judges and the appeals court in washington on which srinivasan serves has often been a springboard to the high court scalia himself served on the court as did other supreme court members chief justice john roberts justice clarence thomas and justice ruth bader ginsburgthe white house said on sunday that obama will wait until the us senate is back in session before making a nomination the senate returns from recess on feb 22republicans have called for scalia s seat to remain open so that the next president who would take office in january 2017 can nominate a replacement other judges obama could consider appointing include paul watford a black man who serves on the 9th us circuit court of appeals and jacqueline nguyen a vietnameseamerican woman who serves on the same court as watfordlittle is known about srinivasan s views on divisive social issues like abortion and affirmative action but as a senior justice department lawyer in 2013 he was part of the legal team that successfully urged the high court to strike down the defense of marriage act a law that restricted the definition of marriage to heterosexual couples for the purposes of federal benefits the ruling helped pave the way for the court s ruling in june 2015 that legalized gay marriage nationwidevia reuters\n",
      "Prediction: Real\n",
      "------------------------------------------------------------\n"
     ]
    }
   ],
   "source": [
    "for i, pred in enumerate(predictions[:10]):\n",
    "    label = \"Fake\" if pred == 0 else \"Real\"\n",
    "    print(f\"News Text:\\n{X_test.iloc[i]}\\nPrediction: {label}\\n{'-'*60}\")\n"
   ]
  },
  {
   "cell_type": "code",
   "execution_count": null,
   "id": "3cd3bac8",
   "metadata": {},
   "outputs": [
    {
     "data": {
      "text/plain": [
       "array([1], dtype=int64)"
      ]
     },
     "execution_count": 32,
     "metadata": {},
     "output_type": "execute_result"
    }
   ],
   "source": []
  },
  {
   "cell_type": "code",
   "execution_count": 33,
   "id": "500fad58",
   "metadata": {},
   "outputs": [
    {
     "data": {
      "text/plain": [
       "['C:\\\\Users\\\\shabb\\\\Desktop\\\\Fake_News_detector\\\\model\\\\Fake_news_model.pkl']"
      ]
     },
     "execution_count": 33,
     "metadata": {},
     "output_type": "execute_result"
    }
   ],
   "source": [
    "joblib.dump(model,r\"C:\\Users\\shabb\\Desktop\\Fake_News_detector\\model\\Fake_news_model.pkl\")"
   ]
  }
 ],
 "metadata": {
  "kernelspec": {
   "display_name": "fakenews_venv",
   "language": "python",
   "name": "python3"
  },
  "language_info": {
   "codemirror_mode": {
    "name": "ipython",
    "version": 3
   },
   "file_extension": ".py",
   "mimetype": "text/x-python",
   "name": "python",
   "nbconvert_exporter": "python",
   "pygments_lexer": "ipython3",
   "version": "3.8.0"
  }
 },
 "nbformat": 4,
 "nbformat_minor": 5
}
